{
 "cells": [
  {
   "cell_type": "code",
   "execution_count": 1,
   "outputs": [],
   "source": [
    "from shapely.geometry import shape\n",
    "import json"
   ],
   "metadata": {
    "collapsed": false,
    "pycharm": {
     "name": "#%%\n"
    }
   }
  },
  {
   "cell_type": "code",
   "execution_count": 2,
   "outputs": [],
   "source": [
    "with open('us-state-boundaries.json') as file:\n",
    "    data = json.load(file)"
   ],
   "metadata": {
    "collapsed": false,
    "pycharm": {
     "name": "#%%\n"
    }
   }
  },
  {
   "cell_type": "code",
   "execution_count": 3,
   "outputs": [],
   "source": [
    "states = {}\n",
    "for i in data:\n",
    "    type = i['fields']['st_asgeojson']['type']\n",
    "    states[i['fields']['name']] = {'polygon': shape(i['fields']['st_asgeojson']), 'neighbours': []}"
   ],
   "metadata": {
    "collapsed": false,
    "pycharm": {
     "name": "#%%\n"
    }
   }
  },
  {
   "cell_type": "code",
   "execution_count": 4,
   "outputs": [
    {
     "data": {
      "text/plain": "{'United States Virgin Islands': {'polygon': <shapely.geometry.multipolygon.MultiPolygon at 0x7f6f5c781250>,\n  'neighbours': []},\n 'Wisconsin': {'polygon': <shapely.geometry.polygon.Polygon at 0x7f6f5fffe160>,\n  'neighbours': []},\n 'Vermont': {'polygon': <shapely.geometry.polygon.Polygon at 0x7f6f5fffe1c0>,\n  'neighbours': []},\n 'New Jersey': {'polygon': <shapely.geometry.polygon.Polygon at 0x7f6f3408f9d0>,\n  'neighbours': []},\n 'Colorado': {'polygon': <shapely.geometry.polygon.Polygon at 0x7f6f3408f970>,\n  'neighbours': []},\n 'South Carolina': {'polygon': <shapely.geometry.polygon.Polygon at 0x7f6f3408fd00>,\n  'neighbours': []},\n 'Oklahoma': {'polygon': <shapely.geometry.polygon.Polygon at 0x7f6f3408fd60>,\n  'neighbours': []},\n 'Indiana': {'polygon': <shapely.geometry.polygon.Polygon at 0x7f6f3408f400>,\n  'neighbours': []},\n 'Montana': {'polygon': <shapely.geometry.polygon.Polygon at 0x7f6f3408f460>,\n  'neighbours': []},\n 'Maryland': {'polygon': <shapely.geometry.polygon.Polygon at 0x7f6f3408f4c0>,\n  'neighbours': []},\n 'New Mexico': {'polygon': <shapely.geometry.polygon.Polygon at 0x7f6f3408fb20>,\n  'neighbours': []},\n 'District of Columbia': {'polygon': <shapely.geometry.polygon.Polygon at 0x7f6f3408fc40>,\n  'neighbours': []},\n 'Arizona': {'polygon': <shapely.geometry.polygon.Polygon at 0x7f6f3408fca0>,\n  'neighbours': []},\n 'Nevada': {'polygon': <shapely.geometry.polygon.Polygon at 0x7f6f3408fbb0>,\n  'neighbours': []},\n 'Georgia': {'polygon': <shapely.geometry.polygon.Polygon at 0x7f6f3408fa30>,\n  'neighbours': []},\n 'Maine': {'polygon': <shapely.geometry.polygon.Polygon at 0x7f6f3408faf0>,\n  'neighbours': []},\n 'Michigan': {'polygon': <shapely.geometry.polygon.Polygon at 0x7f6f3408fac0>,\n  'neighbours': []},\n 'Idaho': {'polygon': <shapely.geometry.polygon.Polygon at 0x7f6f3408f940>,\n  'neighbours': []},\n 'Nebraska': {'polygon': <shapely.geometry.polygon.Polygon at 0x7f6f3408f8e0>,\n  'neighbours': []},\n 'Rhode Island': {'polygon': <shapely.geometry.multipolygon.MultiPolygon at 0x7f6f3408f880>,\n  'neighbours': []},\n 'Washington': {'polygon': <shapely.geometry.polygon.Polygon at 0x7f6f3408f820>,\n  'neighbours': []},\n 'Louisiana': {'polygon': <shapely.geometry.polygon.Polygon at 0x7f6f3408f7c0>,\n  'neighbours': []},\n 'Illinois': {'polygon': <shapely.geometry.polygon.Polygon at 0x7f6f3408f790>,\n  'neighbours': []},\n 'Kentucky': {'polygon': <shapely.geometry.multipolygon.MultiPolygon at 0x7f6f3408f700>,\n  'neighbours': []},\n 'South Dakota': {'polygon': <shapely.geometry.polygon.Polygon at 0x7f6f3408f6a0>,\n  'neighbours': []},\n 'Alabama': {'polygon': <shapely.geometry.polygon.Polygon at 0x7f6f3408f640>,\n  'neighbours': []},\n 'Ohio': {'polygon': <shapely.geometry.polygon.Polygon at 0x7f6f3408f610>,\n  'neighbours': []},\n 'Virginia': {'polygon': <shapely.geometry.polygon.Polygon at 0x7f6f3408f580>,\n  'neighbours': []},\n 'Hawaii': {'polygon': <shapely.geometry.multipolygon.MultiPolygon at 0x7f6f3408f520>,\n  'neighbours': []},\n 'Kansas': {'polygon': <shapely.geometry.polygon.Polygon at 0x7f6f3408f370>,\n  'neighbours': []},\n 'Delaware': {'polygon': <shapely.geometry.polygon.Polygon at 0x7f6f3408f310>,\n  'neighbours': []},\n 'Minnesota': {'polygon': <shapely.geometry.polygon.Polygon at 0x7f6f3408f2e0>,\n  'neighbours': []},\n 'New Hampshire': {'polygon': <shapely.geometry.polygon.Polygon at 0x7f6f3408f250>,\n  'neighbours': []},\n 'Puerto Rico': {'polygon': <shapely.geometry.multipolygon.MultiPolygon at 0x7f6f3408f1f0>,\n  'neighbours': []},\n 'Commonwealth of the Northern Mariana Islands': {'polygon': <shapely.geometry.multipolygon.MultiPolygon at 0x7f6f3408f130>,\n  'neighbours': []},\n 'Arkansas': {'polygon': <shapely.geometry.polygon.Polygon at 0x7f6f3408fd90>,\n  'neighbours': []},\n 'West Virginia': {'polygon': <shapely.geometry.polygon.Polygon at 0x7f6f3408f100>,\n  'neighbours': []},\n 'Connecticut': {'polygon': <shapely.geometry.polygon.Polygon at 0x7f6f3408fe20>,\n  'neighbours': []},\n 'Pennsylvania': {'polygon': <shapely.geometry.polygon.Polygon at 0x7f6f3408fe80>,\n  'neighbours': []},\n 'Alaska': {'polygon': <shapely.geometry.multipolygon.MultiPolygon at 0x7f6f3408fee0>,\n  'neighbours': []},\n 'Texas': {'polygon': <shapely.geometry.polygon.Polygon at 0x7f6f5fffe460>,\n  'neighbours': []},\n 'Guam': {'polygon': <shapely.geometry.polygon.Polygon at 0x7f6f5fffe3a0>,\n  'neighbours': []},\n 'Iowa': {'polygon': <shapely.geometry.polygon.Polygon at 0x7f6f5fffee80>,\n  'neighbours': []},\n 'Florida': {'polygon': <shapely.geometry.multipolygon.MultiPolygon at 0x7f6f3408ff70>,\n  'neighbours': []},\n 'Utah': {'polygon': <shapely.geometry.polygon.Polygon at 0x7f6f5c748580>,\n  'neighbours': []},\n 'Mississippi': {'polygon': <shapely.geometry.polygon.Polygon at 0x7f6f3408ffd0>,\n  'neighbours': []},\n 'California': {'polygon': <shapely.geometry.multipolygon.MultiPolygon at 0x7f6f14e60070>,\n  'neighbours': []},\n 'Oregon': {'polygon': <shapely.geometry.polygon.Polygon at 0x7f6f5fffe820>,\n  'neighbours': []},\n 'New York': {'polygon': <shapely.geometry.multipolygon.MultiPolygon at 0x7f6f34083fa0>,\n  'neighbours': []},\n 'Massachusetts': {'polygon': <shapely.geometry.polygon.Polygon at 0x7f6f34083fd0>,\n  'neighbours': []},\n 'American Samoa': {'polygon': <shapely.geometry.multipolygon.MultiPolygon at 0x7f6f14e60190>,\n  'neighbours': []},\n 'Missouri': {'polygon': <shapely.geometry.polygon.Polygon at 0x7f6f14e60160>,\n  'neighbours': []},\n 'Tennessee': {'polygon': <shapely.geometry.polygon.Polygon at 0x7f6f14e60220>,\n  'neighbours': []},\n 'Wyoming': {'polygon': <shapely.geometry.polygon.Polygon at 0x7f6f14e60250>,\n  'neighbours': []},\n 'North Dakota': {'polygon': <shapely.geometry.polygon.Polygon at 0x7f6f14e602e0>,\n  'neighbours': []},\n 'North Carolina': {'polygon': <shapely.geometry.polygon.Polygon at 0x7f6f14e60340>,\n  'neighbours': []}}"
     },
     "execution_count": 4,
     "metadata": {},
     "output_type": "execute_result"
    }
   ],
   "source": [
    "states"
   ],
   "metadata": {
    "collapsed": false,
    "pycharm": {
     "name": "#%%\n"
    }
   }
  },
  {
   "cell_type": "code",
   "execution_count": 5,
   "outputs": [],
   "source": [
    "for i in states:\n",
    "    for j in states:\n",
    "        if i == j:\n",
    "            continue\n",
    "        else:\n",
    "            polygon1 = states[i]\n",
    "            polygon2 = states[j]\n",
    "            if polygon1['polygon'].intersects(polygon2['polygon']):\n",
    "                polygon1['neighbours'].append(j)"
   ],
   "metadata": {
    "collapsed": false,
    "pycharm": {
     "name": "#%%\n"
    }
   }
  },
  {
   "cell_type": "code",
   "execution_count": 6,
   "outputs": [
    {
     "data": {
      "text/plain": "{'United States Virgin Islands': {'polygon': <shapely.geometry.multipolygon.MultiPolygon at 0x7f6f5c781250>,\n  'neighbours': []},\n 'Wisconsin': {'polygon': <shapely.geometry.polygon.Polygon at 0x7f6f5fffe160>,\n  'neighbours': ['Michigan', 'Illinois', 'Minnesota', 'Iowa']},\n 'Vermont': {'polygon': <shapely.geometry.polygon.Polygon at 0x7f6f5fffe1c0>,\n  'neighbours': ['New Hampshire', 'New York', 'Massachusetts']},\n 'New Jersey': {'polygon': <shapely.geometry.polygon.Polygon at 0x7f6f3408f9d0>,\n  'neighbours': ['Delaware', 'Pennsylvania', 'New York']},\n 'Colorado': {'polygon': <shapely.geometry.polygon.Polygon at 0x7f6f3408f970>,\n  'neighbours': ['Oklahoma',\n   'New Mexico',\n   'Arizona',\n   'Nebraska',\n   'Kansas',\n   'Utah',\n   'Wyoming']},\n 'South Carolina': {'polygon': <shapely.geometry.polygon.Polygon at 0x7f6f3408fd00>,\n  'neighbours': ['Georgia', 'North Carolina']},\n 'Oklahoma': {'polygon': <shapely.geometry.polygon.Polygon at 0x7f6f3408fd60>,\n  'neighbours': ['Colorado',\n   'New Mexico',\n   'Kansas',\n   'Arkansas',\n   'Texas',\n   'Missouri']},\n 'Indiana': {'polygon': <shapely.geometry.polygon.Polygon at 0x7f6f3408f400>,\n  'neighbours': ['Michigan', 'Illinois', 'Kentucky', 'Ohio']},\n 'Montana': {'polygon': <shapely.geometry.polygon.Polygon at 0x7f6f3408f460>,\n  'neighbours': ['Idaho', 'South Dakota', 'Wyoming', 'North Dakota']},\n 'Maryland': {'polygon': <shapely.geometry.polygon.Polygon at 0x7f6f3408f4c0>,\n  'neighbours': ['District of Columbia',\n   'Virginia',\n   'Delaware',\n   'West Virginia',\n   'Pennsylvania']},\n 'New Mexico': {'polygon': <shapely.geometry.polygon.Polygon at 0x7f6f3408fb20>,\n  'neighbours': ['Colorado', 'Oklahoma', 'Arizona', 'Texas', 'Utah']},\n 'District of Columbia': {'polygon': <shapely.geometry.polygon.Polygon at 0x7f6f3408fc40>,\n  'neighbours': ['Maryland', 'Virginia']},\n 'Arizona': {'polygon': <shapely.geometry.polygon.Polygon at 0x7f6f3408fca0>,\n  'neighbours': ['Colorado', 'New Mexico', 'Nevada', 'Utah', 'California']},\n 'Nevada': {'polygon': <shapely.geometry.polygon.Polygon at 0x7f6f3408fbb0>,\n  'neighbours': ['Arizona', 'Idaho', 'Utah', 'California', 'Oregon']},\n 'Georgia': {'polygon': <shapely.geometry.polygon.Polygon at 0x7f6f3408fa30>,\n  'neighbours': ['South Carolina',\n   'Alabama',\n   'Florida',\n   'Tennessee',\n   'North Carolina']},\n 'Maine': {'polygon': <shapely.geometry.polygon.Polygon at 0x7f6f3408faf0>,\n  'neighbours': ['New Hampshire']},\n 'Michigan': {'polygon': <shapely.geometry.polygon.Polygon at 0x7f6f3408fac0>,\n  'neighbours': ['Wisconsin', 'Indiana', 'Illinois', 'Ohio', 'Minnesota']},\n 'Idaho': {'polygon': <shapely.geometry.polygon.Polygon at 0x7f6f3408f940>,\n  'neighbours': ['Montana',\n   'Nevada',\n   'Washington',\n   'Utah',\n   'Oregon',\n   'Wyoming']},\n 'Nebraska': {'polygon': <shapely.geometry.polygon.Polygon at 0x7f6f3408f8e0>,\n  'neighbours': ['Colorado',\n   'South Dakota',\n   'Kansas',\n   'Iowa',\n   'Missouri',\n   'Wyoming']},\n 'Rhode Island': {'polygon': <shapely.geometry.multipolygon.MultiPolygon at 0x7f6f3408f880>,\n  'neighbours': ['Connecticut', 'New York', 'Massachusetts']},\n 'Washington': {'polygon': <shapely.geometry.polygon.Polygon at 0x7f6f3408f820>,\n  'neighbours': ['Idaho', 'Oregon']},\n 'Louisiana': {'polygon': <shapely.geometry.polygon.Polygon at 0x7f6f3408f7c0>,\n  'neighbours': ['Arkansas', 'Texas', 'Mississippi']},\n 'Illinois': {'polygon': <shapely.geometry.polygon.Polygon at 0x7f6f3408f790>,\n  'neighbours': ['Wisconsin',\n   'Indiana',\n   'Michigan',\n   'Kentucky',\n   'Iowa',\n   'Missouri']},\n 'Kentucky': {'polygon': <shapely.geometry.multipolygon.MultiPolygon at 0x7f6f3408f700>,\n  'neighbours': ['Indiana',\n   'Illinois',\n   'Ohio',\n   'Virginia',\n   'West Virginia',\n   'Missouri',\n   'Tennessee']},\n 'South Dakota': {'polygon': <shapely.geometry.polygon.Polygon at 0x7f6f3408f6a0>,\n  'neighbours': ['Montana',\n   'Nebraska',\n   'Minnesota',\n   'Iowa',\n   'Wyoming',\n   'North Dakota']},\n 'Alabama': {'polygon': <shapely.geometry.polygon.Polygon at 0x7f6f3408f640>,\n  'neighbours': ['Georgia', 'Florida', 'Mississippi', 'Tennessee']},\n 'Ohio': {'polygon': <shapely.geometry.polygon.Polygon at 0x7f6f3408f610>,\n  'neighbours': ['Indiana',\n   'Michigan',\n   'Kentucky',\n   'West Virginia',\n   'Pennsylvania']},\n 'Virginia': {'polygon': <shapely.geometry.polygon.Polygon at 0x7f6f3408f580>,\n  'neighbours': ['Maryland',\n   'District of Columbia',\n   'Kentucky',\n   'West Virginia',\n   'Tennessee',\n   'North Carolina']},\n 'Hawaii': {'polygon': <shapely.geometry.multipolygon.MultiPolygon at 0x7f6f3408f520>,\n  'neighbours': []},\n 'Kansas': {'polygon': <shapely.geometry.polygon.Polygon at 0x7f6f3408f370>,\n  'neighbours': ['Colorado', 'Oklahoma', 'Nebraska', 'Missouri']},\n 'Delaware': {'polygon': <shapely.geometry.polygon.Polygon at 0x7f6f3408f310>,\n  'neighbours': ['New Jersey', 'Maryland', 'Pennsylvania']},\n 'Minnesota': {'polygon': <shapely.geometry.polygon.Polygon at 0x7f6f3408f2e0>,\n  'neighbours': ['Wisconsin',\n   'Michigan',\n   'South Dakota',\n   'Iowa',\n   'North Dakota']},\n 'New Hampshire': {'polygon': <shapely.geometry.polygon.Polygon at 0x7f6f3408f250>,\n  'neighbours': ['Vermont', 'Maine', 'Massachusetts']},\n 'Puerto Rico': {'polygon': <shapely.geometry.multipolygon.MultiPolygon at 0x7f6f3408f1f0>,\n  'neighbours': []},\n 'Commonwealth of the Northern Mariana Islands': {'polygon': <shapely.geometry.multipolygon.MultiPolygon at 0x7f6f3408f130>,\n  'neighbours': []},\n 'Arkansas': {'polygon': <shapely.geometry.polygon.Polygon at 0x7f6f3408fd90>,\n  'neighbours': ['Oklahoma',\n   'Louisiana',\n   'Texas',\n   'Mississippi',\n   'Missouri',\n   'Tennessee']},\n 'West Virginia': {'polygon': <shapely.geometry.polygon.Polygon at 0x7f6f3408f100>,\n  'neighbours': ['Maryland', 'Kentucky', 'Ohio', 'Virginia', 'Pennsylvania']},\n 'Connecticut': {'polygon': <shapely.geometry.polygon.Polygon at 0x7f6f3408fe20>,\n  'neighbours': ['Rhode Island', 'New York', 'Massachusetts']},\n 'Pennsylvania': {'polygon': <shapely.geometry.polygon.Polygon at 0x7f6f3408fe80>,\n  'neighbours': ['New Jersey',\n   'Maryland',\n   'Ohio',\n   'Delaware',\n   'West Virginia',\n   'New York']},\n 'Alaska': {'polygon': <shapely.geometry.multipolygon.MultiPolygon at 0x7f6f3408fee0>,\n  'neighbours': []},\n 'Texas': {'polygon': <shapely.geometry.polygon.Polygon at 0x7f6f5fffe460>,\n  'neighbours': ['Oklahoma', 'New Mexico', 'Louisiana', 'Arkansas']},\n 'Guam': {'polygon': <shapely.geometry.polygon.Polygon at 0x7f6f5fffe3a0>,\n  'neighbours': []},\n 'Iowa': {'polygon': <shapely.geometry.polygon.Polygon at 0x7f6f5fffee80>,\n  'neighbours': ['Wisconsin',\n   'Nebraska',\n   'Illinois',\n   'South Dakota',\n   'Minnesota',\n   'Missouri']},\n 'Florida': {'polygon': <shapely.geometry.multipolygon.MultiPolygon at 0x7f6f3408ff70>,\n  'neighbours': ['Georgia', 'Alabama']},\n 'Utah': {'polygon': <shapely.geometry.polygon.Polygon at 0x7f6f5c748580>,\n  'neighbours': ['Colorado',\n   'New Mexico',\n   'Arizona',\n   'Nevada',\n   'Idaho',\n   'Wyoming']},\n 'Mississippi': {'polygon': <shapely.geometry.polygon.Polygon at 0x7f6f3408ffd0>,\n  'neighbours': ['Louisiana', 'Alabama', 'Arkansas', 'Tennessee']},\n 'California': {'polygon': <shapely.geometry.multipolygon.MultiPolygon at 0x7f6f14e60070>,\n  'neighbours': ['Arizona', 'Nevada', 'Oregon']},\n 'Oregon': {'polygon': <shapely.geometry.polygon.Polygon at 0x7f6f5fffe820>,\n  'neighbours': ['Nevada', 'Idaho', 'Washington', 'California']},\n 'New York': {'polygon': <shapely.geometry.multipolygon.MultiPolygon at 0x7f6f34083fa0>,\n  'neighbours': ['Vermont',\n   'New Jersey',\n   'Rhode Island',\n   'Connecticut',\n   'Pennsylvania',\n   'Massachusetts']},\n 'Massachusetts': {'polygon': <shapely.geometry.polygon.Polygon at 0x7f6f34083fd0>,\n  'neighbours': ['Vermont',\n   'Rhode Island',\n   'New Hampshire',\n   'Connecticut',\n   'New York']},\n 'American Samoa': {'polygon': <shapely.geometry.multipolygon.MultiPolygon at 0x7f6f14e60190>,\n  'neighbours': []},\n 'Missouri': {'polygon': <shapely.geometry.polygon.Polygon at 0x7f6f14e60160>,\n  'neighbours': ['Oklahoma',\n   'Nebraska',\n   'Illinois',\n   'Kentucky',\n   'Kansas',\n   'Arkansas',\n   'Iowa',\n   'Tennessee']},\n 'Tennessee': {'polygon': <shapely.geometry.polygon.Polygon at 0x7f6f14e60220>,\n  'neighbours': ['Georgia',\n   'Kentucky',\n   'Alabama',\n   'Virginia',\n   'Arkansas',\n   'Mississippi',\n   'Missouri',\n   'North Carolina']},\n 'Wyoming': {'polygon': <shapely.geometry.polygon.Polygon at 0x7f6f14e60250>,\n  'neighbours': ['Colorado',\n   'Montana',\n   'Idaho',\n   'Nebraska',\n   'South Dakota',\n   'Utah']},\n 'North Dakota': {'polygon': <shapely.geometry.polygon.Polygon at 0x7f6f14e602e0>,\n  'neighbours': ['Montana', 'South Dakota', 'Minnesota']},\n 'North Carolina': {'polygon': <shapely.geometry.polygon.Polygon at 0x7f6f14e60340>,\n  'neighbours': ['South Carolina', 'Georgia', 'Virginia', 'Tennessee']}}"
     },
     "execution_count": 6,
     "metadata": {},
     "output_type": "execute_result"
    }
   ],
   "source": [
    "states"
   ],
   "metadata": {
    "collapsed": false,
    "pycharm": {
     "name": "#%%\n"
    }
   }
  }
 ],
 "metadata": {
  "kernelspec": {
   "display_name": "Python 3",
   "language": "python",
   "name": "python3"
  },
  "language_info": {
   "codemirror_mode": {
    "name": "ipython",
    "version": 2
   },
   "file_extension": ".py",
   "mimetype": "text/x-python",
   "name": "python",
   "nbconvert_exporter": "python",
   "pygments_lexer": "ipython2",
   "version": "2.7.6"
  }
 },
 "nbformat": 4,
 "nbformat_minor": 0
}