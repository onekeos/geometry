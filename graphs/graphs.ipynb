{
 "cells": [
  {
   "cell_type": "code",
   "execution_count": 8,
   "metadata": {
    "collapsed": true
   },
   "outputs": [],
   "source": [
    "import networkx as nx\n",
    "import matplotlib\n",
    "import random"
   ]
  },
  {
   "cell_type": "code",
   "execution_count": 9,
   "outputs": [],
   "source": [
    "class Dot:\n",
    "    def __init__(self, node_id):\n",
    "        self.node_id = node_id"
   ],
   "metadata": {
    "collapsed": false,
    "pycharm": {
     "name": "#%%\n"
    }
   }
  },
  {
   "cell_type": "code",
   "execution_count": 10,
   "outputs": [],
   "source": [
    "class Market(Dot):\n",
    "    def __init__(self, node_id, area, name):\n",
    "        super().__init__(node_id)\n",
    "        self.area = area\n",
    "        self.name = name\n",
    "\n",
    "    def __repr__(self):\n",
    "        return f'{self.name}'\n",
    "\n",
    "    def __str__(self):\n",
    "        return f'market {self.node_id}'\n",
    "\n",
    "    def show(self):\n",
    "        return f'market {self.node_id} {dict(node_id={self.node_id}, area={self.area}, name={self.name})}'"
   ],
   "metadata": {
    "collapsed": false,
    "pycharm": {
     "name": "#%%\n"
    }
   }
  },
  {
   "cell_type": "code",
   "execution_count": 11,
   "outputs": [],
   "source": [
    "market1 = Market(1, random.randint(50, 150), 'market 1')\n",
    "market2 = Market(2, random.randint(50, 150), 'market 2')\n",
    "market3 = Market(3, random.randint(50, 150), 'market 3')\n",
    "market4 = Market(4, random.randint(50, 150), 'market 4')\n",
    "market5 = Market(5, random.randint(50, 150), 'market 5')\n",
    "market6 = Market(6, random.randint(50, 150), 'market 6')\n",
    "market7 = Market(7, random.randint(50, 150), 'market 7')\n",
    "market8 = Market(8, random.randint(50, 150), 'market 8')\n",
    "market9 = Market(9, random.randint(50, 150), 'market 9')\n",
    "market10 = Market(10, random.randint(50, 150), 'market 10')"
   ],
   "metadata": {
    "collapsed": false,
    "pycharm": {
     "name": "#%%\n"
    }
   }
  },
  {
   "cell_type": "code",
   "execution_count": 12,
   "outputs": [
    {
     "data": {
      "text/plain": "91"
     },
     "execution_count": 12,
     "metadata": {},
     "output_type": "execute_result"
    }
   ],
   "source": [
    "market1.area"
   ],
   "metadata": {
    "collapsed": false,
    "pycharm": {
     "name": "#%%\n"
    }
   }
  },
  {
   "cell_type": "code",
   "execution_count": 13,
   "outputs": [
    {
     "data": {
      "text/plain": "91"
     },
     "execution_count": 13,
     "metadata": {},
     "output_type": "execute_result"
    }
   ],
   "source": [
    "market1.area"
   ],
   "metadata": {
    "collapsed": false,
    "pycharm": {
     "name": "#%%\n"
    }
   }
  },
  {
   "cell_type": "code",
   "execution_count": 14,
   "outputs": [
    {
     "data": {
      "text/plain": "{(market 1, market 3): Text(0.5719999507579575, -0.7819026048138353, '7'),\n (market 1, market 2): Text(0.2743599065528626, -0.5353367141540494, '10'),\n (market 1, market 4): Text(0.38547639135608114, -0.5295099736289202, '7'),\n (market 2, market 5): Text(0.10088731871193359, -0.18904128223292618, '8'),\n (market 2, market 6): Text(-0.00576417012960076, -0.24096555659886537, '7'),\n (market 2, market 4): Text(0.23965840316636244, -0.38502937930507686, '6'),\n (market 3, market 4): Text(0.5372984473714573, -0.6315952699648628, '2'),\n (market 4, market 5): Text(0.21200380351515213, -0.18321454170779702, '4'),\n (market 4, market 6): Text(0.1053523146736178, -0.2351388160737362, '4'),\n (market 5, market 6): Text(-0.033418769780811056, -0.03915071900158552, '8'),\n (market 5, market 7): Text(-0.06017901265180789, 0.19828399335498922, '9'),\n (market 6, market 8): Text(-0.31747828458906846, 0.06678193746756703, '6'),\n (market 6, market 7): Text(-0.16683050149334222, 0.14635971898905004, '4'),\n (market 7, market 8): Text(-0.34423852746006534, 0.30421664982414176, '5'),\n (market 7, market 9): Text(-0.2674939175159834, 0.6918972156728124, '3'),\n (market 7, market 10): Text(-0.36009788353179845, 0.5937632689691684, '3'),\n (market 8, market 10): Text(-0.5107456666275247, 0.5141854874476854, '2'),\n (market 9, market 10): Text(-0.4340010566834428, 0.901866053296356, '10')}"
     },
     "execution_count": 14,
     "metadata": {},
     "output_type": "execute_result"
    },
    {
     "data": {
      "text/plain": "<Figure size 432x288 with 1 Axes>",
      "image/png": "[encoded data removed]"
     },
     "metadata": {},
     "output_type": "display_data"
    }
   ],
   "source": [
    "g = nx.Graph()\n",
    "\n",
    "g.add_node(market1,pos=(1,1))\n",
    "g.add_node(market2,pos=(1,2))\n",
    "g.add_node(market3,pos=(0,1))\n",
    "g.add_node(market4,pos=(1,1))\n",
    "g.add_node(market5,pos=(2,2))\n",
    "g.add_node(market6,pos=(2,1))\n",
    "g.add_node(market7,pos=(3,2))\n",
    "g.add_node(market8,pos=(3,1))\n",
    "g.add_node(market9,pos=(4,2))\n",
    "g.add_node(market10,pos=(4,1))\n",
    "\n",
    "g.add_edge(market1,market3,weight=random.randint(1, 10))\n",
    "g.add_edge(market1,market2,weight=random.randint(1, 10))\n",
    "g.add_edge(market1,market4,weight=random.randint(1, 10))\n",
    "g.add_edge(market2,market5,weight=random.randint(1, 10))\n",
    "g.add_edge(market2,market6,weight=random.randint(1, 10))\n",
    "g.add_edge(market3,market4,weight=random.randint(1, 10))\n",
    "g.add_edge(market4,market2,weight=random.randint(1, 10))\n",
    "g.add_edge(market4,market5,weight=random.randint(1, 10))\n",
    "g.add_edge(market4,market6,weight=random.randint(1, 10))\n",
    "g.add_edge(market6,market8,weight=random.randint(1, 10))\n",
    "g.add_edge(market6,market5,weight=random.randint(1, 10))\n",
    "g.add_edge(market5,market7,weight=random.randint(1, 10))\n",
    "g.add_edge(market7,market6,weight=random.randint(1, 10))\n",
    "g.add_edge(market7,market8,weight=random.randint(1, 10))\n",
    "g.add_edge(market7,market9,weight=random.randint(1, 10))\n",
    "g.add_edge(market7,market8,weight=random.randint(1, 10))\n",
    "g.add_edge(market8,market10,weight=random.randint(1, 10))\n",
    "g.add_edge(market9,market10,weight=random.randint(1, 10))\n",
    "g.add_edge(market7,market10,weight=random.randint(1, 10))\n",
    "\n",
    "pos=nx.spring_layout(g)\n",
    "nx.draw_networkx(g,pos)\n",
    "labels = nx.get_edge_attributes(g,'weight')\n",
    "nx.draw_networkx_edge_labels(g,pos,edge_labels=labels, font_size=1, font_color='green')\n"
   ],
   "metadata": {
    "collapsed": false,
    "pycharm": {
     "name": "#%%\n"
    }
   }
  },
  {
   "cell_type": "code",
   "execution_count": 15,
   "outputs": [],
   "source": [
    "best_path = nx.shortest_path(g,source=market1,target=market10, weight='weight')\n",
    "length = nx.shortest_path_length(g,source=market1,target=market10, weight='weight')"
   ],
   "metadata": {
    "collapsed": false,
    "pycharm": {
     "name": "#%%\n"
    }
   }
  },
  {
   "cell_type": "code",
   "execution_count": 16,
   "outputs": [
    {
     "data": {
      "text/plain": "\"Best way market 1 {'node_id': {1}, 'area': {91}, 'name': {'market 1'}} > market 4 {'node_id': {4}, 'area': {124}, 'name': {'market 4'}} > market 6 {'node_id': {6}, 'area': {123}, 'name': {'market 6'}} > market 7 {'node_id': {7}, 'area': {58}, 'name': {'market 7'}} > market 10 {'node_id': {10}, 'area': {144}, 'name': {'market 10'}}\""
     },
     "execution_count": 16,
     "metadata": {},
     "output_type": "execute_result"
    }
   ],
   "source": [
    "f\"Best way {' > ' .join([i.show() for i in best_path])}\""
   ],
   "metadata": {
    "collapsed": false,
    "pycharm": {
     "name": "#%%\n"
    }
   }
  }
 ],
 "metadata": {
  "kernelspec": {
   "display_name": "Python 3",
   "language": "python",
   "name": "python3"
  },
  "language_info": {
   "codemirror_mode": {
    "name": "ipython",
    "version": 2
   },
   "file_extension": ".py",
   "mimetype": "text/x-python",
   "name": "python",
   "nbconvert_exporter": "python",
   "pygments_lexer": "ipython2",
   "version": "2.7.6"
  }
 },
 "nbformat": 4,
 "nbformat_minor": 0
}