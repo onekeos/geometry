{
 "cells": [
  {
   "cell_type": "code",
   "execution_count": 1,
   "metadata": {
    "collapsed": true
   },
   "outputs": [],
   "source": [
    "import pandas as pd"
   ]
  },
  {
   "cell_type": "code",
   "execution_count": 2,
   "outputs": [],
   "source": [
    "df = pd.read_csv('world_countries.txt')"
   ],
   "metadata": {
    "collapsed": false,
    "pycharm": {
     "name": "#%%\n"
    }
   }
  },
  {
   "cell_type": "code",
   "execution_count": 3,
   "outputs": [
    {
     "data": {
      "text/plain": "             country                               region  population  \\\n0       Afghanistan         ASIA (EX. NEAR EAST)             31056997   \n1           Albania   EASTERN EUROPE                          3581655   \n2           Algeria   NORTHERN AFRICA                        32930091   \n3    American Samoa   OCEANIA                                   57794   \n4           Andorra   WESTERN EUROPE                            71201   \n..               ...                                  ...         ...   \n222       West Bank   NEAR EAST                               2460492   \n223  Western Sahara   NORTHERN AFRICA                          273008   \n224           Yemen   NEAR EAST                              21456188   \n225          Zambia   SUB-SAHARAN AFRICA                     11502010   \n226        Zimbabwe   SUB-SAHARAN AFRICA                     12236805   \n\n        area coastline net migration      GDP literacy phones_per_1000  \\\n0     647500         0         23,06    700.0       36             3,2   \n1      28748      1,26         -4,93   4500.0     86,5            71,2   \n2    2381740      0,04         -0,39   6000.0       70            78,1   \n3        199     58,29        -20,71   8000.0       97           259,5   \n4        468         0           6,6  19000.0      100           497,2   \n..       ...       ...           ...      ...      ...             ...   \n222     5860         0          2,98    800.0      NaN           145,2   \n223   266000      0,42           NaN      NaN      NaN             NaN   \n224   527970      0,36             0    800.0     50,2            37,2   \n225   752614         0             0    800.0     80,6             8,2   \n226   390580         0             0   1900.0     90,7            26,8   \n\n    birthrate deathrate agriculture industry service  \n0        46,6     20,34        0,38     0,24    0,38  \n1       15,11      5,22       0,232    0,188   0,579  \n2       17,14      4,61       0,101      0,6   0,298  \n3       22,46      3,27         NaN      NaN     NaN  \n4        8,71      6,25         NaN      NaN     NaN  \n..        ...       ...         ...      ...     ...  \n222     31,67      3,92        0,09     0,28    0,63  \n223       NaN       NaN         NaN      NaN     0,4  \n224     42,89       8,3       0,135    0,472   0,393  \n225        41     19,93        0,22     0,29   0,489  \n226     28,01     21,84       0,179    0,243   0,579  \n\n[227 rows x 14 columns]",
      "text/html": "<div>\n<style scoped>\n    .dataframe tbody tr th:only-of-type {\n        vertical-align: middle;\n    }\n\n    .dataframe tbody tr th {\n        vertical-align: top;\n    }\n\n    .dataframe thead th {\n        text-align: right;\n    }\n</style>\n<table border=\"1\" class=\"dataframe\">\n  <thead>\n    <tr style=\"text-align: right;\">\n      <th></th>\n      <th>country</th>\n      <th>region</th>\n      <th>population</th>\n      <th>area</th>\n      <th>coastline</th>\n      <th>net migration</th>\n      <th>GDP</th>\n      <th>literacy</th>\n      <th>phones_per_1000</th>\n      <th>birthrate</th>\n      <th>deathrate</th>\n      <th>agriculture</th>\n      <th>industry</th>\n      <th>service</th>\n    </tr>\n  </thead>\n  <tbody>\n    <tr>\n      <th>0</th>\n      <td>Afghanistan</td>\n      <td>ASIA (EX. NEAR EAST)</td>\n      <td>31056997</td>\n      <td>647500</td>\n      <td>0</td>\n      <td>23,06</td>\n      <td>700.0</td>\n      <td>36</td>\n      <td>3,2</td>\n      <td>46,6</td>\n      <td>20,34</td>\n      <td>0,38</td>\n      <td>0,24</td>\n      <td>0,38</td>\n    </tr>\n    <tr>\n      <th>1</th>\n      <td>Albania</td>\n      <td>EASTERN EUROPE</td>\n      <td>3581655</td>\n      <td>28748</td>\n      <td>1,26</td>\n      <td>-4,93</td>\n      <td>4500.0</td>\n      <td>86,5</td>\n      <td>71,2</td>\n      <td>15,11</td>\n      <td>5,22</td>\n      <td>0,232</td>\n      <td>0,188</td>\n      <td>0,579</td>\n    </tr>\n    <tr>\n      <th>2</th>\n      <td>Algeria</td>\n      <td>NORTHERN AFRICA</td>\n      <td>32930091</td>\n      <td>2381740</td>\n      <td>0,04</td>\n      <td>-0,39</td>\n      <td>6000.0</td>\n      <td>70</td>\n      <td>78,1</td>\n      <td>17,14</td>\n      <td>4,61</td>\n      <td>0,101</td>\n      <td>0,6</td>\n      <td>0,298</td>\n    </tr>\n    <tr>\n      <th>3</th>\n      <td>American Samoa</td>\n      <td>OCEANIA</td>\n      <td>57794</td>\n      <td>199</td>\n      <td>58,29</td>\n      <td>-20,71</td>\n      <td>8000.0</td>\n      <td>97</td>\n      <td>259,5</td>\n      <td>22,46</td>\n      <td>3,27</td>\n      <td>NaN</td>\n      <td>NaN</td>\n      <td>NaN</td>\n    </tr>\n    <tr>\n      <th>4</th>\n      <td>Andorra</td>\n      <td>WESTERN EUROPE</td>\n      <td>71201</td>\n      <td>468</td>\n      <td>0</td>\n      <td>6,6</td>\n      <td>19000.0</td>\n      <td>100</td>\n      <td>497,2</td>\n      <td>8,71</td>\n      <td>6,25</td>\n      <td>NaN</td>\n      <td>NaN</td>\n      <td>NaN</td>\n    </tr>\n    <tr>\n      <th>...</th>\n      <td>...</td>\n      <td>...</td>\n      <td>...</td>\n      <td>...</td>\n      <td>...</td>\n      <td>...</td>\n      <td>...</td>\n      <td>...</td>\n      <td>...</td>\n      <td>...</td>\n      <td>...</td>\n      <td>...</td>\n      <td>...</td>\n      <td>...</td>\n    </tr>\n    <tr>\n      <th>222</th>\n      <td>West Bank</td>\n      <td>NEAR EAST</td>\n      <td>2460492</td>\n      <td>5860</td>\n      <td>0</td>\n      <td>2,98</td>\n      <td>800.0</td>\n      <td>NaN</td>\n      <td>145,2</td>\n      <td>31,67</td>\n      <td>3,92</td>\n      <td>0,09</td>\n      <td>0,28</td>\n      <td>0,63</td>\n    </tr>\n    <tr>\n      <th>223</th>\n      <td>Western Sahara</td>\n      <td>NORTHERN AFRICA</td>\n      <td>273008</td>\n      <td>266000</td>\n      <td>0,42</td>\n      <td>NaN</td>\n      <td>NaN</td>\n      <td>NaN</td>\n      <td>NaN</td>\n      <td>NaN</td>\n      <td>NaN</td>\n      <td>NaN</td>\n      <td>NaN</td>\n      <td>0,4</td>\n    </tr>\n    <tr>\n      <th>224</th>\n      <td>Yemen</td>\n      <td>NEAR EAST</td>\n      <td>21456188</td>\n      <td>527970</td>\n      <td>0,36</td>\n      <td>0</td>\n      <td>800.0</td>\n      <td>50,2</td>\n      <td>37,2</td>\n      <td>42,89</td>\n      <td>8,3</td>\n      <td>0,135</td>\n      <td>0,472</td>\n      <td>0,393</td>\n    </tr>\n    <tr>\n      <th>225</th>\n      <td>Zambia</td>\n      <td>SUB-SAHARAN AFRICA</td>\n      <td>11502010</td>\n      <td>752614</td>\n      <td>0</td>\n      <td>0</td>\n      <td>800.0</td>\n      <td>80,6</td>\n      <td>8,2</td>\n      <td>41</td>\n      <td>19,93</td>\n      <td>0,22</td>\n      <td>0,29</td>\n      <td>0,489</td>\n    </tr>\n    <tr>\n      <th>226</th>\n      <td>Zimbabwe</td>\n      <td>SUB-SAHARAN AFRICA</td>\n      <td>12236805</td>\n      <td>390580</td>\n      <td>0</td>\n      <td>0</td>\n      <td>1900.0</td>\n      <td>90,7</td>\n      <td>26,8</td>\n      <td>28,01</td>\n      <td>21,84</td>\n      <td>0,179</td>\n      <td>0,243</td>\n      <td>0,579</td>\n    </tr>\n  </tbody>\n</table>\n<p>227 rows × 14 columns</p>\n</div>"
     },
     "execution_count": 3,
     "metadata": {},
     "output_type": "execute_result"
    }
   ],
   "source": [
    "df"
   ],
   "metadata": {
    "collapsed": false,
    "pycharm": {
     "name": "#%%\n"
    }
   }
  },
  {
   "cell_type": "code",
   "execution_count": 4,
   "outputs": [],
   "source": [
    "df['population_density'] = df['population'] / df['area']"
   ],
   "metadata": {
    "collapsed": false,
    "pycharm": {
     "name": "#%%\n"
    }
   }
  },
  {
   "cell_type": "code",
   "execution_count": 5,
   "outputs": [
    {
     "data": {
      "text/plain": "     country                               region  population  area coastline  \\\n138  Monaco   WESTERN EUROPE                            32543     2       205   \n\n    net migration      GDP literacy phones_per_1000 birthrate deathrate  \\\n138          7,75  27000.0       99          1035,6      9,19     12,91   \n\n    agriculture industry service  population_density  \n138        0,17      NaN     NaN             16271.5  ",
      "text/html": "<div>\n<style scoped>\n    .dataframe tbody tr th:only-of-type {\n        vertical-align: middle;\n    }\n\n    .dataframe tbody tr th {\n        vertical-align: top;\n    }\n\n    .dataframe thead th {\n        text-align: right;\n    }\n</style>\n<table border=\"1\" class=\"dataframe\">\n  <thead>\n    <tr style=\"text-align: right;\">\n      <th></th>\n      <th>country</th>\n      <th>region</th>\n      <th>population</th>\n      <th>area</th>\n      <th>coastline</th>\n      <th>net migration</th>\n      <th>GDP</th>\n      <th>literacy</th>\n      <th>phones_per_1000</th>\n      <th>birthrate</th>\n      <th>deathrate</th>\n      <th>agriculture</th>\n      <th>industry</th>\n      <th>service</th>\n      <th>population_density</th>\n    </tr>\n  </thead>\n  <tbody>\n    <tr>\n      <th>138</th>\n      <td>Monaco</td>\n      <td>WESTERN EUROPE</td>\n      <td>32543</td>\n      <td>2</td>\n      <td>205</td>\n      <td>7,75</td>\n      <td>27000.0</td>\n      <td>99</td>\n      <td>1035,6</td>\n      <td>9,19</td>\n      <td>12,91</td>\n      <td>0,17</td>\n      <td>NaN</td>\n      <td>NaN</td>\n      <td>16271.5</td>\n    </tr>\n  </tbody>\n</table>\n</div>"
     },
     "execution_count": 5,
     "metadata": {},
     "output_type": "execute_result"
    }
   ],
   "source": [
    "# Страна с максимальной плотностью населения\n",
    "max_density_country = df.loc[df['population_density'] == df['population_density'].max()]\n",
    "max_density_country"
   ],
   "metadata": {
    "collapsed": false,
    "pycharm": {
     "name": "#%%\n"
    }
   }
  },
  {
   "cell_type": "code",
   "execution_count": 6,
   "outputs": [
    {
     "data": {
      "text/plain": "       country                               region  population     area  \\\n80  Greenland   NORTHERN AMERICA                          56361  2166086   \n\n   coastline net migration      GDP literacy phones_per_1000 birthrate  \\\n80      2,04         -8,37  20000.0      NaN           448,9     15,93   \n\n   deathrate agriculture industry service  population_density  \n80      7,84         NaN      NaN     NaN             0.02602  ",
      "text/html": "<div>\n<style scoped>\n    .dataframe tbody tr th:only-of-type {\n        vertical-align: middle;\n    }\n\n    .dataframe tbody tr th {\n        vertical-align: top;\n    }\n\n    .dataframe thead th {\n        text-align: right;\n    }\n</style>\n<table border=\"1\" class=\"dataframe\">\n  <thead>\n    <tr style=\"text-align: right;\">\n      <th></th>\n      <th>country</th>\n      <th>region</th>\n      <th>population</th>\n      <th>area</th>\n      <th>coastline</th>\n      <th>net migration</th>\n      <th>GDP</th>\n      <th>literacy</th>\n      <th>phones_per_1000</th>\n      <th>birthrate</th>\n      <th>deathrate</th>\n      <th>agriculture</th>\n      <th>industry</th>\n      <th>service</th>\n      <th>population_density</th>\n    </tr>\n  </thead>\n  <tbody>\n    <tr>\n      <th>80</th>\n      <td>Greenland</td>\n      <td>NORTHERN AMERICA</td>\n      <td>56361</td>\n      <td>2166086</td>\n      <td>2,04</td>\n      <td>-8,37</td>\n      <td>20000.0</td>\n      <td>NaN</td>\n      <td>448,9</td>\n      <td>15,93</td>\n      <td>7,84</td>\n      <td>NaN</td>\n      <td>NaN</td>\n      <td>NaN</td>\n      <td>0.02602</td>\n    </tr>\n  </tbody>\n</table>\n</div>"
     },
     "execution_count": 6,
     "metadata": {},
     "output_type": "execute_result"
    }
   ],
   "source": [
    "# Страна с минимальной плотностью населения\n",
    "min_density_country = df.loc[df['population_density'] == df['population_density'].min()]\n",
    "min_density_country"
   ],
   "metadata": {
    "collapsed": false,
    "pycharm": {
     "name": "#%%\n"
    }
   }
  },
  {
   "cell_type": "code",
   "execution_count": 7,
   "outputs": [
    {
     "data": {
      "text/plain": "country                object\nregion                 object\npopulation              int64\narea                    int64\ncoastline              object\nnet migration          object\nGDP                   float64\nliteracy               object\nphones_per_1000        object\nbirthrate              object\ndeathrate              object\nagriculture            object\nindustry               object\nservice                object\npopulation_density    float64\ndtype: object"
     },
     "execution_count": 7,
     "metadata": {},
     "output_type": "execute_result"
    }
   ],
   "source": [
    "df.dtypes"
   ],
   "metadata": {
    "collapsed": false,
    "pycharm": {
     "name": "#%%\n"
    }
   }
  },
  {
   "cell_type": "code",
   "execution_count": 8,
   "outputs": [
    {
     "data": {
      "text/plain": "'Количество стран без береговой линии = 44, отношение стран без береговой линии к общему количеству стран = 0.19383259911894274'"
     },
     "execution_count": 8,
     "metadata": {},
     "output_type": "execute_result"
    }
   ],
   "source": [
    "# Число стран без береговой линии\n",
    "df['coastline'] = df['coastline'].str.replace(',', '').astype(float)\n",
    "df['coastline'] = pd.to_numeric(df['coastline'], errors='coerce')\n",
    "wo_coastline_mask = (df['coastline'] == 0)\n",
    "# countries_wo_coastline = len(df[wo_coastline_mask])\n",
    "countries_wo_coastline = len(df[wo_coastline_mask])\n",
    "f'Количество стран без береговой линии = {countries_wo_coastline}, отношение стран без береговой линии к общему количеству стран = {countries_wo_coastline / len(df)}'"
   ],
   "metadata": {
    "collapsed": false,
    "pycharm": {
     "name": "#%%\n"
    }
   }
  },
  {
   "cell_type": "code",
   "execution_count": 9,
   "outputs": [
    {
     "data": {
      "text/plain": "'Регион, где суммарно меньше всего людей владеют телефонами NORTHERN AFRICA'"
     },
     "execution_count": 9,
     "metadata": {},
     "output_type": "execute_result"
    }
   ],
   "source": [
    "df['phones_per_1000'] = df['phones_per_1000'].str.replace(',', '').astype(float)\n",
    "df['region'] = df['region'].str.strip()\n",
    "\n",
    "regions_by_phones_per_1000 = df.groupby(['region'])['phones_per_1000'].sum()\n",
    "f'Регион, где суммарно меньше всего людей владеют телефонами {regions_by_phones_per_1000.idxmin()}'"
   ],
   "metadata": {
    "collapsed": false,
    "pycharm": {
     "name": "#%%\n"
    }
   }
  },
  {
   "cell_type": "code",
   "execution_count": 10,
   "outputs": [],
   "source": [
    "# Страны у которых отстутсвует показатель грамотности, и при этом численность населения страны более 1млн человек\n",
    "df['literacy'] = df['literacy'].str.replace(',', '').astype(float)\n",
    "df['literacy'] = pd.to_numeric(df['literacy'], errors='coerce')"
   ],
   "metadata": {
    "collapsed": false,
    "pycharm": {
     "name": "#%%\n"
    }
   }
  },
  {
   "cell_type": "code",
   "execution_count": 11,
   "outputs": [
    {
     "data": {
      "text/plain": "'Страны, у которых отсутствует показатель грамотности, и при этом численность населения страны более 1млн человек: Bosnia & Herzegovina, Gaza Strip, Macedonia, Slovakia, West Bank'"
     },
     "execution_count": 11,
     "metadata": {},
     "output_type": "execute_result"
    }
   ],
   "source": [
    "not_literacy_mask = (df['literacy'].isnull()) & (df['population'] > 1e6)\n",
    "countries_wo_literacy = df[not_literacy_mask]\n",
    "countries = [country.strip() for country in countries_wo_literacy[\"country\"].tolist()]\n",
    "f'Страны, у которых отсутствует показатель грамотности, и при этом численность населения страны более 1млн человек: {\", \".join(countries)}'"
   ],
   "metadata": {
    "collapsed": false,
    "pycharm": {
     "name": "#%%\n"
    }
   }
  },
  {
   "cell_type": "code",
   "execution_count": 12,
   "outputs": [
    {
     "data": {
      "text/plain": "           country                region  population     area  coastline  \\\n106    Kazakhstan    C.W. OF IND. STATES    15233244  2717300        0.0   \n110  Korea, South   ASIA (EX. NEAR EAST)    48846823    98480      245.0   \n225        Zambia     SUB-SAHARAN AFRICA    11502010   752614        0.0   \n96           Iran   ASIA (EX. NEAR EAST)    68688433  1648000       15.0   \n168       Romania         EASTERN EUROPE    22303552   237500        9.0   \n\n    net migration      GDP  literacy  phones_per_1000  birthrate  deathrate  \\\n106         -3,35   6300.0     984.0           1641.0       16.0      942.0   \n110             0  17800.0     979.0           4861.0       10.0      585.0   \n225             0    800.0     806.0             82.0       41.0     1993.0   \n96          -0,84   7000.0     794.0           2764.0       17.0      555.0   \n168         -0,13   7000.0     984.0           1969.0      107.0     1177.0   \n\n    agriculture industry service  population_density  birthrate/deathrate  \n106       0,067    0,386   0,547            5.606022             0.016985  \n110       0,033    0,403   0,563          496.007545             0.017094  \n225        0,22     0,29   0,489           15.282748             0.020572  \n96        0,116    0,424    0,46           41.679874             0.030631  \n168       0,101     0,35   0,549           93.909693             0.090909  ",
      "text/html": "<div>\n<style scoped>\n    .dataframe tbody tr th:only-of-type {\n        vertical-align: middle;\n    }\n\n    .dataframe tbody tr th {\n        vertical-align: top;\n    }\n\n    .dataframe thead th {\n        text-align: right;\n    }\n</style>\n<table border=\"1\" class=\"dataframe\">\n  <thead>\n    <tr style=\"text-align: right;\">\n      <th></th>\n      <th>country</th>\n      <th>region</th>\n      <th>population</th>\n      <th>area</th>\n      <th>coastline</th>\n      <th>net migration</th>\n      <th>GDP</th>\n      <th>literacy</th>\n      <th>phones_per_1000</th>\n      <th>birthrate</th>\n      <th>deathrate</th>\n      <th>agriculture</th>\n      <th>industry</th>\n      <th>service</th>\n      <th>population_density</th>\n      <th>birthrate/deathrate</th>\n    </tr>\n  </thead>\n  <tbody>\n    <tr>\n      <th>106</th>\n      <td>Kazakhstan</td>\n      <td>C.W. OF IND. STATES</td>\n      <td>15233244</td>\n      <td>2717300</td>\n      <td>0.0</td>\n      <td>-3,35</td>\n      <td>6300.0</td>\n      <td>984.0</td>\n      <td>1641.0</td>\n      <td>16.0</td>\n      <td>942.0</td>\n      <td>0,067</td>\n      <td>0,386</td>\n      <td>0,547</td>\n      <td>5.606022</td>\n      <td>0.016985</td>\n    </tr>\n    <tr>\n      <th>110</th>\n      <td>Korea, South</td>\n      <td>ASIA (EX. NEAR EAST)</td>\n      <td>48846823</td>\n      <td>98480</td>\n      <td>245.0</td>\n      <td>0</td>\n      <td>17800.0</td>\n      <td>979.0</td>\n      <td>4861.0</td>\n      <td>10.0</td>\n      <td>585.0</td>\n      <td>0,033</td>\n      <td>0,403</td>\n      <td>0,563</td>\n      <td>496.007545</td>\n      <td>0.017094</td>\n    </tr>\n    <tr>\n      <th>225</th>\n      <td>Zambia</td>\n      <td>SUB-SAHARAN AFRICA</td>\n      <td>11502010</td>\n      <td>752614</td>\n      <td>0.0</td>\n      <td>0</td>\n      <td>800.0</td>\n      <td>806.0</td>\n      <td>82.0</td>\n      <td>41.0</td>\n      <td>1993.0</td>\n      <td>0,22</td>\n      <td>0,29</td>\n      <td>0,489</td>\n      <td>15.282748</td>\n      <td>0.020572</td>\n    </tr>\n    <tr>\n      <th>96</th>\n      <td>Iran</td>\n      <td>ASIA (EX. NEAR EAST)</td>\n      <td>68688433</td>\n      <td>1648000</td>\n      <td>15.0</td>\n      <td>-0,84</td>\n      <td>7000.0</td>\n      <td>794.0</td>\n      <td>2764.0</td>\n      <td>17.0</td>\n      <td>555.0</td>\n      <td>0,116</td>\n      <td>0,424</td>\n      <td>0,46</td>\n      <td>41.679874</td>\n      <td>0.030631</td>\n    </tr>\n    <tr>\n      <th>168</th>\n      <td>Romania</td>\n      <td>EASTERN EUROPE</td>\n      <td>22303552</td>\n      <td>237500</td>\n      <td>9.0</td>\n      <td>-0,13</td>\n      <td>7000.0</td>\n      <td>984.0</td>\n      <td>1969.0</td>\n      <td>107.0</td>\n      <td>1177.0</td>\n      <td>0,101</td>\n      <td>0,35</td>\n      <td>0,549</td>\n      <td>93.909693</td>\n      <td>0.090909</td>\n    </tr>\n  </tbody>\n</table>\n</div>"
     },
     "execution_count": 12,
     "metadata": {},
     "output_type": "execute_result"
    }
   ],
   "source": [
    "# Топ 5 стран, с самым низким показателем рождаемости по отношению к показателю смертности\n",
    "df['birthrate'] = df['birthrate'].str.replace(',', '').astype(float)\n",
    "df['deathrate'] = df['deathrate'].str.replace(',', '').astype(float)\n",
    "df['birthrate/deathrate'] = df['birthrate'] / df['deathrate']\n",
    "df.nsmallest(5, ['birthrate/deathrate'])"
   ],
   "metadata": {
    "collapsed": false,
    "pycharm": {
     "name": "#%%\n"
    }
   }
  },
  {
   "cell_type": "code",
   "execution_count": 13,
   "outputs": [],
   "source": [
    "# Страны, в которых преобладает сельское хозяйство (agriculture) над промышленностью (industry) и сферой обслуживания (service) и при этом средний показатель миграции (net migration) по региону положительный\n",
    "df['net migration'] = df['net migration'].str.replace(',', '').astype(float)\n",
    "df['agriculture'] = df['agriculture'].str.replace(',', '').astype(float)\n",
    "df['industry'] = df['industry'].str.replace(',', '').astype(float)\n",
    "df['service'] = df['service'].str.replace(',', '').astype(float)\n"
   ],
   "metadata": {
    "collapsed": false,
    "pycharm": {
     "name": "#%%\n"
    }
   }
  },
  {
   "cell_type": "code",
   "execution_count": 14,
   "outputs": [
    {
     "data": {
      "text/plain": "'Страны, в которых преобладает сельское хозяйство над промышленностью и сферой обслуживания и при этом средний показатель миграции по региону положительный Burma, Laos'"
     },
     "execution_count": 14,
     "metadata": {},
     "output_type": "execute_result"
    }
   ],
   "source": [
    "# regions_positive_net_migration = df.groupby(['region'])['net migration'].mean()\n",
    "regions_positive_net_migration = df.groupby('region')['net migration'].aggregate('mean')\n",
    "positive_net_migration_regions_mask = [i for i in regions_positive_net_migration[regions_positive_net_migration > 0].keys()]\n",
    "\n",
    "# regions_positive_net_migration.apply(lambda df: df[df['net migration'] > 0])\n",
    "agriculture_prefer_mask = (df['agriculture'] > df['industry']) & (df['agriculture'] > df['service']) & (df['region'].isin(positive_net_migration_regions_mask))\n",
    "\n",
    "countries = \", \".join(i.strip() for i in df[agriculture_prefer_mask][\"country\"].tolist())\n",
    "f'Страны, в которых преобладает сельское хозяйство над промышленностью и сферой обслуживания и при этом средний показатель миграции по региону положительный {countries}'"
   ],
   "metadata": {
    "collapsed": false,
    "pycharm": {
     "name": "#%%\n"
    }
   }
  },
  {
   "cell_type": "markdown",
   "source": [],
   "metadata": {
    "collapsed": false
   }
  }
 ],
 "metadata": {
  "kernelspec": {
   "display_name": "Python 3",
   "language": "python",
   "name": "python3"
  },
  "language_info": {
   "codemirror_mode": {
    "name": "ipython",
    "version": 2
   },
   "file_extension": ".py",
   "mimetype": "text/x-python",
   "name": "python",
   "nbconvert_exporter": "python",
   "pygments_lexer": "ipython2",
   "version": "2.7.6"
  }
 },
 "nbformat": 4,
 "nbformat_minor": 0
}